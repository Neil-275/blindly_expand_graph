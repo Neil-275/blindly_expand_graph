{
 "cells": [
  {
   "cell_type": "code",
   "execution_count": 1,
   "id": "19ccacfa",
   "metadata": {},
   "outputs": [],
   "source": [
    "%load_ext autoreload\n",
    "%autoreload 2"
   ]
  },
  {
   "cell_type": "code",
   "execution_count": 2,
   "id": "942a5cac",
   "metadata": {},
   "outputs": [
    {
     "data": {
      "text/plain": [
       "True"
      ]
     },
     "execution_count": 2,
     "metadata": {},
     "output_type": "execute_result"
    }
   ],
   "source": [
    "from sentence_transformers import SentenceTransformer, util\n",
    "import random\n",
    "import json\n",
    "import os\n",
    "import pickle as pkl\n",
    "import torch\n",
    "import openai\n",
    "from dotenv import load_dotenv\n",
    "load_dotenv()"
   ]
  },
  {
   "cell_type": "code",
   "execution_count": null,
   "id": "192de6cc",
   "metadata": {},
   "outputs": [],
   "source": [
    "with open(\"knowledge_graph/KG_data/FB15k-237-betae/id2ent.pkl\", \"rb\") as f:\n",
    "    id2ent = pkl.load(f)\n",
    "with open(\"knowledge_graph/KG_data/FB15k-237-betae/id2rel.pkl\", \"rb\") as f:\n",
    "    id2rel = pkl.load(f)\n",
    "with open(\"knowledge_graph/KG_data/FB15k-237-betae/FB15k_mid2name.txt\", \"r\") as f:\n",
    "    ent2name = {}\n",
    "    for line in f:\n",
    "        mid, name = line.strip().split(\"\\t\")\n",
    "        ent2name[mid] = name\n",
    "\n"
   ]
  },
  {
   "cell_type": "code",
   "execution_count": 8,
   "id": "42ac81cb",
   "metadata": {},
   "outputs": [
    {
     "data": {
      "text/plain": [
       "['+/location/country/form_of_government',\n",
       " '-/location/country/form_of_government',\n",
       " '+/tv/tv_program/regular_cast./tv/regular_tv_appearance/actor',\n",
       " '-/tv/tv_program/regular_cast./tv/regular_tv_appearance/actor',\n",
       " '+/media_common/netflix_genre/titles']"
      ]
     },
     "execution_count": 8,
     "metadata": {},
     "output_type": "execute_result"
    }
   ],
   "source": [
    "rels = id2rel.values()\n",
    "rels = list(rels)\n",
    "rels[:5]"
   ]
  },
  {
   "cell_type": "markdown",
   "id": "e8c0fc09",
   "metadata": {},
   "source": [
    "### Tạo embedding cho các relations"
   ]
  },
  {
   "cell_type": "code",
   "execution_count": 9,
   "id": "8e8b7126",
   "metadata": {},
   "outputs": [],
   "source": [
    "rel_embeddings = model.encode(rels)"
   ]
  },
  {
   "cell_type": "markdown",
   "id": "cdc12039",
   "metadata": {},
   "source": [
    "Nhận xét:  \n",
    "+ Direct và inverse relation thường có độ khớp gần như nhau.  "
   ]
  },
  {
   "cell_type": "markdown",
   "id": "3d0ed0f0",
   "metadata": {},
   "source": [
    "Original query:"
   ]
  },
  {
   "cell_type": "code",
   "execution_count": 10,
   "id": "53cb2824",
   "metadata": {},
   "outputs": [],
   "source": [
    "query = \"Which awards has David Copperfield received for his performances in films?\""
   ]
  },
  {
   "cell_type": "markdown",
   "id": "8104e2a7",
   "metadata": {},
   "source": [
    "#### Query split:  \n",
    "Do query thể có nhiều phần và cần phải qua nhiều hop mới đạt được kết quả. Do đó, ta có thể đưa query về thành các sub-queries và xử lí từng đoạn.  \n",
    "+ Splitting queries: Ta có thể đưa LLM làm (PoG có bước này)\n",
    "+ Compose results: \n",
    "    + Sử dụng mean\n",
    "    + Sử dụng reciprocal rank\n",
    "    + "
   ]
  },
  {
   "cell_type": "code",
   "execution_count": 11,
   "id": "22505a21",
   "metadata": {},
   "outputs": [],
   "source": [
    "split_queries = [\n",
    "    \"What films did David Copperfield perform in?\",\n",
    "    \"What awards has David Copperfield won?\"\n",
    "]"
   ]
  },
  {
   "cell_type": "code",
   "execution_count": 12,
   "id": "3ec061d9",
   "metadata": {},
   "outputs": [],
   "source": [
    "split_queries = \"Which awards has David Copperfield received for his performances in films?\""
   ]
  },
  {
   "cell_type": "code",
   "execution_count": 13,
   "id": "92cb8e97",
   "metadata": {},
   "outputs": [],
   "source": [
    "query_emb = model.encode(split_queries)\n",
    "\n",
    "scores = util.dot_score(query_emb, rel_embeddings)"
   ]
  },
  {
   "cell_type": "markdown",
   "id": "c8d7f993",
   "metadata": {},
   "source": [
    "### Thử combine 2 relation để so khớp với query."
   ]
  },
  {
   "cell_type": "code",
   "execution_count": 14,
   "id": "52b3ccd5",
   "metadata": {},
   "outputs": [],
   "source": [
    "def fuse_mean(scores):\n",
    "    ls = scores.unbind(dim = 0)\n",
    "    res = torch.zeros(1,scores.shape[1])\n",
    "    n = scores.shape[0]\n",
    "    for l in ls:\n",
    "        res += l / n \n",
    "    return res\n",
    "\n",
    "scores = fuse_mean(scores)"
   ]
  },
  {
   "cell_type": "code",
   "execution_count": 15,
   "id": "65125d41",
   "metadata": {},
   "outputs": [],
   "source": [
    "def fuse_rrf(scores, k=10):\n",
    "    ls = scores.unbind(dim=0)\n",
    "    dict_scores = {}\n",
    "    for l in ls:\n",
    "        _, indices = torch.sort(l, descending=True)\n",
    "        for i in range(scores.shape[1]):\n",
    "            if indices[i].item() not in dict_scores:\n",
    "                dict_scores[indices[i].item()] = []\n",
    "            dict_scores[indices[i].item()].append(i + 1)\n",
    "\n",
    "    for key in dict_scores:\n",
    "        dict_scores[key] = sum([1/(k + rank) for rank in dict_scores[key]])\n",
    "    scores = torch.tensor([list(dict_scores.values())])\n",
    "    return scores\n",
    "scores = fuse_rrf(scores)"
   ]
  },
  {
   "cell_type": "code",
   "execution_count": 16,
   "id": "b47e3da9",
   "metadata": {},
   "outputs": [],
   "source": [
    "# scores[0]"
   ]
  },
  {
   "cell_type": "code",
   "execution_count": null,
   "id": "bdce39f6",
   "metadata": {},
   "outputs": [],
   "source": [
    "def compare_rel_query_and_return_topk(rels, query, fuse_func=fuse_mean, k=5):\n",
    "    if type(rels) is not list:\n",
    "        rels = [rels]\n",
    "    rels_emb = model.encode(rels)\n",
    "    query_emb = model.encode([query,])\n",
    "    scores = util.dot_score(query_emb, rels_emb)\n",
    "    return return_top_k(scores, rels, k=k, fuse_func=fuse_func)\n",
    "\n",
    "def return_top_k(scores, rels, k=5, fuse_func=fuse_mean):\n",
    "    scores = fuse_func(scores)\n",
    "    sorted_scores, sorted_indices = torch.sort(scores, descending=True)\n",
    "    for idx in sorted_indices.tolist()[0][:k]:\n",
    "        print(f\"Index: {idx}\")\n",
    "        rel = rels[idx]\n",
    "        print(f\"Relation: {rel}\")\n",
    "        print(f\"Score: {scores[0,idx].item()}\")\n",
    "        print(\"-\" * 50)"
   ]
  },
  {
   "cell_type": "code",
   "execution_count": 18,
   "id": "6b699742",
   "metadata": {},
   "outputs": [],
   "source": [
    "c_rel1 = rels[13] + rels[6]\n",
    "c_rel2 = rels[6] + rels[13]\n",
    "c_rels = [c_rel1, c_rel2]  # \"award_nomination_awarded_to\" + \"award_winner_award_received\""
   ]
  },
  {
   "cell_type": "code",
   "execution_count": 19,
   "id": "a10d667e",
   "metadata": {},
   "outputs": [
    {
     "name": "stdout",
     "output_type": "stream",
     "text": [
      "Index: 15\n",
      "Relation: -/film/actor/film./film/performance/film\n",
      "Score: 93.86505126953125\n",
      "--------------------------------------------------\n",
      "Index: 0\n",
      "Relation: -/film/actor/film./film/performance/film+/award/award_winner/awards_won./award/award_honor/award_winner\n",
      "Score: 93.60128021240234\n",
      "--------------------------------------------------\n",
      "Index: 207\n",
      "Relation: -/film/director/film\n",
      "Score: 93.42400360107422\n",
      "--------------------------------------------------\n",
      "Index: 1\n",
      "Relation: +/award/award_winner/awards_won./award/award_honor/award_winner-/film/actor/film./film/performance/film\n",
      "Score: 93.12854766845703\n",
      "--------------------------------------------------\n",
      "Index: 14\n",
      "Relation: +/film/actor/film./film/performance/film\n",
      "Score: 92.56756591796875\n",
      "--------------------------------------------------\n"
     ]
    }
   ],
   "source": [
    "compare_rel_query_and_return_topk(c_rels+rels, split_queries, fuse_func=fuse_mean, k=5)"
   ]
  },
  {
   "cell_type": "markdown",
   "id": "a9107d89",
   "metadata": {},
   "source": [
    "Các relation liên quan tới film dominate\n"
   ]
  },
  {
   "cell_type": "markdown",
   "id": "19f53380",
   "metadata": {},
   "source": [
    "### Inspect queries"
   ]
  },
  {
   "cell_type": "code",
   "execution_count": 34,
   "id": "6cea50df",
   "metadata": {},
   "outputs": [
    {
     "data": {
      "text/plain": [
       "{'query_type': ('e', ('r', 'r')),\n",
       " 'raw_query': (4582, (133, 17)),\n",
       " 'named_query': ('Franklin',\n",
       "  ('-/people/person/places_lived./people/place_lived/location',\n",
       "   '-/award/award_nominee/award_nominations./award/award_nomination/award_nominee')),\n",
       " 'transformed_query': ['Who are the award nominees that have lived in places associated with Franklin?',\n",
       "  'What are the names of the individuals who were nominated for awards and lived in locations linked to Franklin?',\n",
       "  'Can you list the award nominees who have resided in locations related to Franklin?'],\n",
       " 'answers': ['Vince_Gill',\n",
       "  'Albert_Lee',\n",
       "  'Keith_Urban',\n",
       "  'Carrie_Underwood',\n",
       "  'John_Travolta']}"
      ]
     },
     "execution_count": 34,
     "metadata": {},
     "output_type": "execute_result"
    }
   ],
   "source": [
    "with open(\"knowledge_graph/queries/train_2c_id.pkl\", \"rb\") as f:\n",
    "    train_queries = pkl.load(f)\n",
    "\n",
    "query= train_queries[0]\n",
    "query"
   ]
  },
  {
   "cell_type": "markdown",
   "id": "bbb34dd8",
   "metadata": {},
   "source": [
    "### Test pipeline extract subgraph"
   ]
  },
  {
   "cell_type": "code",
   "execution_count": 27,
   "id": "11cd7aba",
   "metadata": {},
   "outputs": [],
   "source": [
    "device = \"cuda\" if torch.cuda.is_available() else \"cpu\"\n",
    "model = SentenceTransformer('sentence-transformers/msmarco-distilbert-base-tas-b').to(device)"
   ]
  },
  {
   "cell_type": "code",
   "execution_count": 32,
   "id": "e45f49b5",
   "metadata": {},
   "outputs": [],
   "source": [
    "from expand_subgraph import ExpandSubgraph\n",
    "from utils import  extract_numbers, extract_strings, extract_notations"
   ]
  },
  {
   "cell_type": "code",
   "execution_count": 35,
   "id": "076d6778",
   "metadata": {},
   "outputs": [
    {
     "name": "stdout",
     "output_type": "stream",
     "text": [
      "depth: 0\n",
      "1 entities to expand.\n",
      "10 triplets found.\n",
      "Selected 10 triplets to expand.\n",
      "depth: 1\n",
      "9 entities to expand.\n",
      "8710 triplets found.\n",
      "Selected 10 triplets to expand.\n",
      "depth: 2\n",
      "10 entities to expand.\n",
      "486 triplets found.\n",
      "Selected 10 triplets to expand.\n",
      "depth: 3\n",
      "9 entities to expand.\n",
      "900 triplets found.\n",
      "Selected 10 triplets to expand.\n",
      "depth: 4\n",
      "10 entities to expand.\n",
      "932 triplets found.\n",
      "Selected 10 triplets to expand.\n"
     ]
    }
   ],
   "source": [
    "expander = ExpandSubgraph(model, util, query)\n",
    "expander.expand_subgraph()"
   ]
  },
  {
   "cell_type": "code",
   "execution_count": 36,
   "id": "15215137",
   "metadata": {},
   "outputs": [
    {
     "name": "stdout",
     "output_type": "stream",
     "text": [
      "subgraph has 50 triplets.\n"
     ]
    },
    {
     "data": {
      "text/plain": [
       "(0.6, 0.0)"
      ]
     },
     "execution_count": 36,
     "metadata": {},
     "output_type": "execute_result"
    }
   ],
   "source": [
    "expander.evaluate_subgraph()"
   ]
  },
  {
   "cell_type": "code",
   "execution_count": 37,
   "id": "be2ad8b8",
   "metadata": {},
   "outputs": [
    {
     "data": {
      "text/plain": [
       "[2403, 1221, 137, 1589, 4093]"
      ]
     },
     "execution_count": 37,
     "metadata": {},
     "output_type": "execute_result"
    }
   ],
   "source": [
    "expander.answers_id"
   ]
  },
  {
   "cell_type": "code",
   "execution_count": 38,
   "id": "a18bfa08",
   "metadata": {},
   "outputs": [
    {
     "data": {
      "text/plain": [
       "'/m/02fn5r'"
      ]
     },
     "execution_count": 38,
     "metadata": {},
     "output_type": "execute_result"
    }
   ],
   "source": [
    "id2ent[2403]"
   ]
  },
  {
   "cell_type": "code",
   "execution_count": 40,
   "id": "6746a961",
   "metadata": {},
   "outputs": [
    {
     "name": "stdout",
     "output_type": "stream",
     "text": [
      "50\n"
     ]
    }
   ],
   "source": [
    "print(len(expander.subgraph_key))"
   ]
  },
  {
   "cell_type": "code",
   "execution_count": null,
   "id": "0873a5b5",
   "metadata": {},
   "outputs": [],
   "source": [
    "name2ent = {v:k for k,v in ent2name.items()}\n",
    "ent2id = {v:k for k,v in id2ent.items()}\n",
    "rel2id = {v:k for k,v in id2rel.items()}"
   ]
  },
  {
   "cell_type": "code",
   "execution_count": null,
   "id": "85d21775",
   "metadata": {},
   "outputs": [
    {
     "data": {
      "text/plain": [
       "{'query_type': ('e', ('r', 'r')),\n",
       " 'raw_query': ('Franklin',\n",
       "  ('-/people/person/places_lived./people/place_lived/location',\n",
       "   '-/award/award_nominee/award_nominations./award/award_nomination/award_nominee')),\n",
       " 'transformed_query': ['Who are the award nominees that have lived in places associated with Franklin?',\n",
       "  'What are the names of the individuals who were nominated for awards and lived in locations linked to Franklin?',\n",
       "  'Can you list the award nominees who have resided in locations related to Franklin?'],\n",
       " 'answers': ['Vince_Gill',\n",
       "  'Albert_Lee',\n",
       "  'Keith_Urban',\n",
       "  'Carrie_Underwood',\n",
       "  'John_Travolta']}"
      ]
     },
     "execution_count": 23,
     "metadata": {},
     "output_type": "execute_result"
    }
   ],
   "source": [
    "query"
   ]
  },
  {
   "cell_type": "code",
   "execution_count": null,
   "id": "2137b5ac",
   "metadata": {},
   "outputs": [],
   "source": []
  },
  {
   "cell_type": "code",
   "execution_count": null,
   "id": "8ab0e2ab",
   "metadata": {},
   "outputs": [
    {
     "data": {
      "text/plain": [
       "['Franklin',\n",
       " '-/people/person/places_lived./people/place_lived/location',\n",
       " '-/award/award_nominee/award_nominations./award/award_nomination/award_nominee']"
      ]
     },
     "execution_count": 100,
     "metadata": {},
     "output_type": "execute_result"
    }
   ],
   "source": [
    "extract_strings(train_queries[0]['raw_query'])"
   ]
  },
  {
   "cell_type": "code",
   "execution_count": null,
   "id": "20b99d78",
   "metadata": {},
   "outputs": [
    {
     "data": {
      "text/plain": [
       "{'query_type': ('e', ('r', 'r')),\n",
       " 'raw_query': ('String',\n",
       "  ('+/music/performance_role/track_performances./music/track_contribution/role',\n",
       "   '+/dataworld/gardening_hint/split_to')),\n",
       " 'transformed_query': ['What roles do performers play in the track performances related to String?',\n",
       "  'What are the different contributions of musicians in performances of the String genre?',\n",
       "  'In the context of String, what are the various performance roles for track contributions?'],\n",
       " 'answers': ['plucked_string_instruments',\n",
       "  'Percussion',\n",
       "  'Lead_guitar',\n",
       "  'Electric_piano',\n",
       "  'Horn']}"
      ]
     },
     "execution_count": 103,
     "metadata": {},
     "output_type": "execute_result"
    }
   ],
   "source": [
    "train_queries[1]"
   ]
  },
  {
   "cell_type": "code",
   "execution_count": null,
   "id": "f318e553",
   "metadata": {},
   "outputs": [
    {
     "data": {
      "text/plain": [
       "'/m/0680x0'"
      ]
     },
     "execution_count": 104,
     "metadata": {},
     "output_type": "execute_result"
    }
   ],
   "source": [
    "name2ent['string']"
   ]
  }
 ],
 "metadata": {
  "kernelspec": {
   "display_name": "ida",
   "language": "python",
   "name": "ida"
  },
  "language_info": {
   "codemirror_mode": {
    "name": "ipython",
    "version": 3
   },
   "file_extension": ".py",
   "mimetype": "text/x-python",
   "name": "python",
   "nbconvert_exporter": "python",
   "pygments_lexer": "ipython3",
   "version": "3.11.13"
  }
 },
 "nbformat": 4,
 "nbformat_minor": 5
}
